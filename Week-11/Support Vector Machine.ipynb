{
 "cells": [
  {
   "cell_type": "markdown",
   "id": "59cf9e84-c839-418c-9c85-4b23fb649ede",
   "metadata": {},
   "source": [
    "## Support Vector Machine (SVM) to the &quot;Social_Network_Ads.csv&quot; dataset for classification"
   ]
  },
  {
   "cell_type": "code",
   "execution_count": 11,
   "id": "f405c49b-fadb-4369-9319-6a087274b970",
   "metadata": {},
   "outputs": [],
   "source": [
    "# Import necessary libraries\n",
    "import pandas as pd\n",
    "from sklearn.model_selection import train_test_split\n",
    "from sklearn.preprocessing import StandardScaler\n",
    "from sklearn.svm import SVC\n",
    "from sklearn.metrics import classification_report, accuracy_score, confusion_matrix\n"
   ]
  },
  {
   "cell_type": "code",
   "execution_count": 2,
   "id": "384cf839-d191-4ac9-86ec-041b3c1489c7",
   "metadata": {},
   "outputs": [],
   "source": [
    "# Load the dataset\n",
    "data = pd.read_csv(\"Social_Network_Ads.csv\")"
   ]
  },
  {
   "cell_type": "code",
   "execution_count": 3,
   "id": "e9aff1b9-ff79-4961-bd10-6b3699b53c1f",
   "metadata": {},
   "outputs": [],
   "source": [
    "X = data.iloc[:, [2, 3]].values  \n",
    "y = data.iloc[:, 4].values        "
   ]
  },
  {
   "cell_type": "code",
   "execution_count": 4,
   "id": "16cf6d34-0bc3-4f19-858c-08f6b683fc1b",
   "metadata": {},
   "outputs": [],
   "source": [
    "X_train, X_test, y_train, y_test = train_test_split(X, y, test_size=0.25, random_state=0)"
   ]
  },
  {
   "cell_type": "code",
   "execution_count": 5,
   "id": "5e7b0b6e-1bf7-4830-b07a-5b3274a687b7",
   "metadata": {},
   "outputs": [],
   "source": [
    "sc = StandardScaler()\n",
    "X_train = sc.fit_transform(X_train)\n",
    "X_test = sc.transform(X_test)"
   ]
  },
  {
   "cell_type": "code",
   "execution_count": 6,
   "id": "4cbc4301-6f0d-4eba-b8c4-a9c0047d2506",
   "metadata": {},
   "outputs": [],
   "source": [
    "# SVM Model Selection\n",
    "# We'll use a radial basis function (RBF) kernel, as it works well with non-linearly separable data\n",
    "classifier = SVC(kernel='rbf', random_state=0)\n",
    "classifier.fit(X_train, y_train)\n",
    "y_pred = classifier.predict(X_test)"
   ]
  },
  {
   "cell_type": "code",
   "execution_count": 7,
   "id": "92d8971b-6072-4438-8b3d-4a2f3f0137f2",
   "metadata": {},
   "outputs": [
    {
     "name": "stdout",
     "output_type": "stream",
     "text": [
      "Accuracy: 0.93\n"
     ]
    }
   ],
   "source": [
    "# Model Evaluation\n",
    "print(\"Accuracy:\", accuracy_score(y_test, y_pred))"
   ]
  },
  {
   "cell_type": "code",
   "execution_count": 8,
   "id": "7f9e4d5c-7c6d-47ba-91b7-1db8f0a6782a",
   "metadata": {},
   "outputs": [],
   "source": [
    "# Calculating the confusion matrix\n",
    "conf_matrix = confusion_matrix(y_test, y_pred)"
   ]
  },
  {
   "cell_type": "code",
   "execution_count": 9,
   "id": "e75a8e9b-7374-4e0d-ba0c-d23c4dd43a6b",
   "metadata": {},
   "outputs": [
    {
     "name": "stdout",
     "output_type": "stream",
     "text": [
      "\n",
      "Confusion Matrix:\n",
      "[[64  4]\n",
      " [ 3 29]]\n"
     ]
    }
   ],
   "source": [
    "# Displaying the confusion matrix\n",
    "print(\"\\nConfusion Matrix:\")\n",
    "print(conf_matrix)"
   ]
  },
  {
   "cell_type": "code",
   "execution_count": 10,
   "id": "9f96eec8-6146-4547-89b7-19ba71a9799c",
   "metadata": {},
   "outputs": [
    {
     "name": "stdout",
     "output_type": "stream",
     "text": [
      "\n",
      "Classification Report:\n",
      "              precision    recall  f1-score   support\n",
      "\n",
      "           0       0.96      0.94      0.95        68\n",
      "           1       0.88      0.91      0.89        32\n",
      "\n",
      "    accuracy                           0.93       100\n",
      "   macro avg       0.92      0.92      0.92       100\n",
      "weighted avg       0.93      0.93      0.93       100\n",
      "\n"
     ]
    }
   ],
   "source": [
    "# Classification Report\n",
    "print(\"\\nClassification Report:\")\n",
    "print(classification_report(y_test, y_pred))"
   ]
  },
  {
   "cell_type": "markdown",
   "id": "b574a370-3ad7-4898-8305-70857c976acb",
   "metadata": {},
   "source": [
    "1. Preprocessing Steps:\n",
    "   - Feature Scaling: We used the StandardScaler to scale the features (Age and EstimatedSalary) to have a mean of 0 and a standard deviation of 1. This step is essential for SVM because it works better when features are on the same scale.\n",
    "   - Train-Test Split: We split the dataset into training and testing sets using train_test_split. This allows us to train the model on one set of data and evaluate its performance on another set, which helps to assess how well the model generalizes to unseen data.\n",
    "\n",
    "2. Kernel Choice:\n",
    "   - Radial Basis Function (RBF) Kernel: We selected the RBF kernel for the SVM model. This kernel is suitable for cases where the data is not linearly separable, as it can map the data to a higher-dimensional space where it may become separable. RBF kernel is a popular choice and often performs well in practice for a wide range of datasets.\n",
    "\n",
    "3. Evaluation Metrics Used:\n",
    "   -Accuracy: This metric measures the overall correctness of the model's predictions, which is the ratio of correctly predicted instances to the total instances.\n",
    "   - Classification Report: This report provides a detailed summary of various evaluation metrics such as precision, recall, F1-score, and support for each class. It gives insights into the model's performance for both classes (purchased and not purchased).\n",
    "   - Confusion Matrix: The confusion matrix provides a detailed breakdown of predictions, showing the counts of true positive, true negative, false positive, and false negative predictions. It gives a more granular understanding of the model's performance, especially in terms of errors made for each class."
   ]
  }
 ],
 "metadata": {
  "kernelspec": {
   "display_name": "Python 3 (ipykernel)",
   "language": "python",
   "name": "python3"
  },
  "language_info": {
   "codemirror_mode": {
    "name": "ipython",
    "version": 3
   },
   "file_extension": ".py",
   "mimetype": "text/x-python",
   "name": "python",
   "nbconvert_exporter": "python",
   "pygments_lexer": "ipython3",
   "version": "3.12.2"
  }
 },
 "nbformat": 4,
 "nbformat_minor": 5
}
