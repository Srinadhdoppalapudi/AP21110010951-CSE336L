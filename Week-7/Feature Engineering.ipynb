{
 "cells": [
  {
   "cell_type": "markdown",
   "id": "3ccecd65-27db-4423-9cd0-055cae89d587",
   "metadata": {},
   "source": [
    "# Mean and Variance "
   ]
  },
  {
   "cell_type": "code",
   "execution_count": 3,
   "id": "e416da3d-a49d-4cf2-8635-1b2c1e3c899c",
   "metadata": {},
   "outputs": [
    {
     "name": "stdin",
     "output_type": "stream",
     "text": [
      "Enter the dimension of the vector:  5\n",
      "Enter element 1:  1\n",
      "Enter element 2:  2\n",
      "Enter element 3:  3\n",
      "Enter element 4:  4\n",
      "Enter element 5:  5\n"
     ]
    },
    {
     "name": "stdout",
     "output_type": "stream",
     "text": [
      "Sample Vector: [1. 2. 3. 4. 5.]\n",
      "Mean: 3.0\n",
      "Sample Variance: 2.5\n",
      "Population Variance: 2.0\n"
     ]
    }
   ],
   "source": [
    "import numpy as np\n",
    "\n",
    "def compute_mean(array):\n",
    "    return np.mean(array)\n",
    "\n",
    "def compute_variance(array, sample=True):\n",
    "    if sample:\n",
    "        return np.var(array, ddof=1)\n",
    "    else:\n",
    "        return np.var(array)\n",
    "\n",
    "def main():\n",
    "    sample_vector = np.array([float(input(f\"Enter element {i+1}: \")) for i in range(int(input(\"Enter the dimension of the vector: \")))])\n",
    "\n",
    "    print(\"Sample Vector:\", sample_vector)\n",
    "    mean = compute_mean(sample_vector)\n",
    "    sample_variance = compute_variance(sample_vector)\n",
    "    population_variance = compute_variance(sample_vector, sample=False)\n",
    "\n",
    "    print(\"Mean:\", mean)\n",
    "    print(\"Sample Variance:\", sample_variance)\n",
    "    print(\"Population Variance:\", population_variance)\n",
    "\n",
    "if __name__ == \"__main__\":\n",
    "    main()"
   ]
  },
  {
   "cell_type": "raw",
   "id": "b0126bc6-e257-4814-9e83-f6e6941846e0",
   "metadata": {},
   "source": [
    "# Sample Mean: 3.0\n",
    "# Represents the average value of the numbers in the list.\n",
    "\n",
    "# Sample Variance: 2.5\n",
    "# Indicates how much the numbers vary from the average (mean) value."
   ]
  },
  {
   "cell_type": "markdown",
   "id": "e6161edf-1be6-499a-aab2-7734b524057f",
   "metadata": {},
   "source": [
    "# Covariance between two vectors"
   ]
  },
  {
   "cell_type": "code",
   "execution_count": 4,
   "id": "b0538aa3-4420-4500-9b76-8ab18da795a7",
   "metadata": {},
   "outputs": [
    {
     "name": "stdin",
     "output_type": "stream",
     "text": [
      "Enter the dimension of vector 1:  3\n",
      "Enter the dimension of vector 2:  3\n",
      "Enter 3 elements for vector 1 separated by spaces:  1 2 3\n",
      "Enter 3 elements for vector 2 separated by spaces:  4 7 8\n"
     ]
    },
    {
     "name": "stdout",
     "output_type": "stream",
     "text": [
      "Covariance between Vector 1 and Vector 2: 2.0\n"
     ]
    }
   ],
   "source": [
    "### cov(X, Y) = Σ((Xi - X̄) * (Yi - Ȳ)) / n-1\n",
    "import numpy as np\n",
    "\n",
    "def compute_covariance(vector1, vector2):\n",
    "    covariance = np.sum((vector1 - np.mean(vector1)) * (vector2 - np.mean(vector2))) / (len(vector1) - 1)\n",
    "    return covariance\n",
    "\n",
    "def main():\n",
    "    M = int(input(\"Enter the dimension of vector 1: \"))\n",
    "    N = int(input(\"Enter the dimension of vector 2: \"))\n",
    "\n",
    "    vector1 = np.array(input(f\"Enter {M} elements for vector 1 separated by spaces: \").split(), dtype=float)\n",
    "    vector2 = np.array(input(f\"Enter {N} elements for vector 2 separated by spaces: \").split(), dtype=float)\n",
    "\n",
    "    covariance = compute_covariance(vector1, vector2)\n",
    "\n",
    "    print(\"Covariance between Vector 1 and Vector 2:\", covariance)\n",
    "\n",
    "if __name__ == \"__main__\":\n",
    "    main()"
   ]
  },
  {
   "cell_type": "raw",
   "id": "4871ee0b-ada5-4524-9f16-246aa987bbc4",
   "metadata": {},
   "source": [
    "# Covariance between x and y: 2.0\n",
    "# Represents the degree to which the values of x and y vary together.\n",
    "# A positive covariance suggests that as the values of x increase, the values of y tend to increase as well,\n",
    "# while a negative covariance indicates that as the values of x increase, the values of y tend to decrease.\n",
    "# A covariance of zero suggests no linear relationship between the variables x and y."
   ]
  },
  {
   "cell_type": "markdown",
   "id": "f57e62ae-0789-4cb9-bb9e-69f527c09b6e",
   "metadata": {},
   "source": [
    "# Correlation"
   ]
  },
  {
   "cell_type": "code",
   "execution_count": 18,
   "id": "acd9a9b2-3428-4d1d-9200-61b6f7da1e04",
   "metadata": {},
   "outputs": [
    {
     "name": "stdin",
     "output_type": "stream",
     "text": [
      "Enter the dimension of the vectors:  3\n",
      "Enter 3 elements for vector 1 separated by spaces:  1 2 3\n",
      "Enter 3 elements for vector 2 separated by spaces:  4 5 6\n"
     ]
    },
    {
     "name": "stdout",
     "output_type": "stream",
     "text": [
      "Correlation between Vector 1 and Vector 2: 1.5\n"
     ]
    }
   ],
   "source": [
    "import numpy as np\n",
    "\n",
    "def compute_correlation(vector1, vector2):\n",
    "    covariance = np.cov(vector1, vector2)[0][1]\n",
    "    correlation = covariance / (np.std(vector1) * np.std(vector2))\n",
    "    return correlation\n",
    "\n",
    "def main():\n",
    "    N = int(input(\"Enter the dimension of the vectors: \"))\n",
    "\n",
    "    vector1 = np.array(input(f\"Enter {N} elements for vector 1 separated by spaces: \").split(), dtype=float)\n",
    "    vector2 = np.array(input(f\"Enter {N} elements for vector 2 separated by spaces: \").split(), dtype=float)\n",
    "\n",
    "    if len(vector1) != N or len(vector2) != N:\n",
    "        print(f\"Error: Vectors must be of length {N}.\")\n",
    "        return\n",
    "\n",
    "    correlation = compute_correlation(vector1, vector2)\n",
    "\n",
    "    print(\"Correlation between Vector 1 and Vector 2:\", correlation)\n",
    "\n",
    "if __name__ == \"__main__\":\n",
    "    main()"
   ]
  },
  {
   "cell_type": "raw",
   "id": "5cc75bcd-7b97-407f-94ba-d49a52d83dfa",
   "metadata": {},
   "source": [
    "# Correlation between x and y: 1.5\n",
    "# A correlation of 1 indicates a perfect positive linear relationship, meaning that as x increases, y also increases in a perfectly Linear\n",
    "# A correlation of -1 indicates a perfect negative linear relationship, meaning that as x increases, y decreases in a perfectly Linear\n",
    "# A correlation close to 0 suggests no linear relationship between the variables x and y.\n",
    "# In the above result, a correlation of approximately 1.5 suggests a strong positive linear relationship between x and y."
   ]
  },
  {
   "cell_type": "markdown",
   "id": "7b4f1c73-062e-4218-8591-b45ee27a01b6",
   "metadata": {},
   "source": [
    "# Write a program to compute the covariance matrix and correlation matrix."
   ]
  },
  {
   "cell_type": "code",
   "execution_count": 5,
   "id": "78daf0fb-b5d4-487b-9d8a-4afdeb3589d0",
   "metadata": {},
   "outputs": [
    {
     "name": "stdin",
     "output_type": "stream",
     "text": [
      "Enter the number of rows (samples):  3\n",
      "Enter the number of columns (features):  3\n"
     ]
    },
    {
     "name": "stdout",
     "output_type": "stream",
     "text": [
      "Enter the data:\n"
     ]
    },
    {
     "name": "stdin",
     "output_type": "stream",
     "text": [
      "Enter values for sample 1:  1 6 7\n",
      "Enter values for sample 2:  9 6 4\n",
      "Enter values for sample 3:  6 0 2\n"
     ]
    },
    {
     "name": "stdout",
     "output_type": "stream",
     "text": [
      "Covariance Matrix:\n",
      " [[16.33333333 -2.         -7.16666667]\n",
      " [-2.         12.          7.        ]\n",
      " [-7.16666667  7.          6.33333333]]\n",
      "Correlation Matrix:\n",
      " [[ 1.5        -0.21428571 -1.05695106]\n",
      " [-0.21428571  1.5         1.2044326 ]\n",
      " [-1.05695106  1.2044326   1.5       ]]\n"
     ]
    }
   ],
   "source": [
    "def calculate_covariance_matrix(data):\n",
    "    mean = np.mean(data, axis=0)\n",
    "    centered_data = data - mean\n",
    "    covariance_matrix = np.cov(centered_data.T, bias=False)\n",
    "    return covariance_matrix\n",
    "\n",
    "def calculate_correlation_matrix(data):\n",
    "    covariance_matrix = calculate_covariance_matrix(data)\n",
    "    std_dev = np.std(data, axis=0)\n",
    "    correlation_matrix = np.divide(covariance_matrix, np.outer(std_dev, std_dev), where=(std_dev[:, None] * std_dev[None, :]) != 0)\n",
    "    return correlation_matrix\n",
    "\n",
    "rows = int(input(\"Enter the number of rows (samples): \"))\n",
    "cols = int(input(\"Enter the number of columns (features): \"))\n",
    "\n",
    "data = np.zeros((rows, cols))\n",
    "\n",
    "print(\"Enter the data:\")\n",
    "for i in range(rows):\n",
    "    data[i] = [float(val) for val in input(f\"Enter values for sample {i+1}: \").split()]\n",
    "\n",
    "covariance_matrix = calculate_covariance_matrix(data)\n",
    "correlation_matrix = calculate_correlation_matrix(data)\n",
    "\n",
    "print(\"Covariance Matrix:\\n\", covariance_matrix)\n",
    "print(\"Correlation Matrix:\\n\", correlation_matrix)"
   ]
  },
  {
   "cell_type": "code",
   "execution_count": null,
   "id": "2d0520cd-458b-49ca-8ca3-2f40e9e7766f",
   "metadata": {},
   "outputs": [],
   "source": []
  }
 ],
 "metadata": {
  "kernelspec": {
   "display_name": "Python 3 (ipykernel)",
   "language": "python",
   "name": "python3"
  },
  "language_info": {
   "codemirror_mode": {
    "name": "ipython",
    "version": 3
   },
   "file_extension": ".py",
   "mimetype": "text/x-python",
   "name": "python",
   "nbconvert_exporter": "python",
   "pygments_lexer": "ipython3",
   "version": "3.12.2"
  }
 },
 "nbformat": 4,
 "nbformat_minor": 5
}
